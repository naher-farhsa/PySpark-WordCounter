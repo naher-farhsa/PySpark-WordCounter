{
  "cells": [
    {
      "cell_type": "markdown",
      "source": [
        "#Hello, This project is to demonstrate Apache Spark mapreduce for wordcount and text processing using inbuilt libs and function of Python3.\n",
        "###1. PySpark\n",
        "###2. findspark\n",
        "###3. nltk\n",
        "###By 6CIT-3:\n",
        "###1. Rehan Ashraf\n",
        "###2. Abdul Aman Khan\n",
        "###3. Mihir Suman\n",
        "###4. Amal V\n",
        "###5. Burhan Pasha\n"
      ],
      "metadata": {
        "id": "7dvUX0FiOobL"
      }
    },
    {
      "cell_type": "markdown",
      "source": [
        "###Installing PySpark ( Api for Apache Spark )\n"
      ],
      "metadata": {
        "id": "og6r-TMP7qcR"
      }
    },
    {
      "cell_type": "code",
      "source": [
        "  %pip install pyspark"
      ],
      "metadata": {
        "id": "PDG3394T7Wx7",
        "outputId": "39c4525b-fe8c-48b0-cf38-bb97de90c1ed",
        "colab": {
          "base_uri": "https://localhost:8080/"
        }
      },
      "execution_count": null,
      "outputs": [
        {
          "output_type": "stream",
          "name": "stdout",
          "text": [
            "Collecting pyspark\n",
            "  Downloading pyspark-3.5.1.tar.gz (317.0 MB)\n",
            "\u001b[2K     \u001b[90m━━━━━━━━━━━━━━━━━━━━━━━━━━━━━━━━━━━━━━━━\u001b[0m \u001b[32m317.0/317.0 MB\u001b[0m \u001b[31m2.8 MB/s\u001b[0m eta \u001b[36m0:00:00\u001b[0m\n",
            "\u001b[?25h  Preparing metadata (setup.py) ... \u001b[?25l\u001b[?25hdone\n",
            "Requirement already satisfied: py4j==0.10.9.7 in /usr/local/lib/python3.10/dist-packages (from pyspark) (0.10.9.7)\n",
            "Building wheels for collected packages: pyspark\n",
            "  Building wheel for pyspark (setup.py) ... \u001b[?25l\u001b[?25hdone\n",
            "  Created wheel for pyspark: filename=pyspark-3.5.1-py2.py3-none-any.whl size=317488491 sha256=75f89d01d36a1b0f800d3795957fd54675549ed1d05ac8588391e59e902b47ed\n",
            "  Stored in directory: /root/.cache/pip/wheels/80/1d/60/2c256ed38dddce2fdd93be545214a63e02fbd8d74fb0b7f3a6\n",
            "Successfully built pyspark\n",
            "Installing collected packages: pyspark\n",
            "Successfully installed pyspark-3.5.1\n"
          ]
        }
      ]
    },
    {
      "cell_type": "markdown",
      "source": [
        "###Installing findspark library\n",
        " To init, config Apache Spark for local python environment"
      ],
      "metadata": {
        "id": "2D24acac-i7R"
      }
    },
    {
      "cell_type": "code",
      "execution_count": null,
      "metadata": {
        "collapsed": true,
        "colab": {
          "base_uri": "https://localhost:8080/"
        },
        "id": "rpZvWlPTxRiE",
        "outputId": "a3ae933d-0f65-498f-9880-35625defdd3f"
      },
      "outputs": [
        {
          "output_type": "stream",
          "name": "stdout",
          "text": [
            "Collecting findspark\n",
            "  Downloading findspark-2.0.1-py2.py3-none-any.whl (4.4 kB)\n",
            "Installing collected packages: findspark\n",
            "Successfully installed findspark-2.0.1\n"
          ]
        }
      ],
      "source": [
        "%pip install findspark\n",
        "import findspark\n",
        "findspark.init()"
      ]
    },
    {
      "cell_type": "markdown",
      "metadata": {
        "id": "JaNL1l7ZxRiF"
      },
      "source": [
        "##### Importing SparkSession and SparkConf RDDs(Resileint Distributed Dataset)\n",
        "Creating a SparkContext."
      ]
    },
    {
      "cell_type": "code",
      "execution_count": null,
      "metadata": {
        "collapsed": true,
        "id": "zcfD6TyMxRiG"
      },
      "outputs": [],
      "source": [
        "from pyspark.sql import SparkSession\n",
        "from pyspark.conf import SparkConf"
      ]
    },
    {
      "cell_type": "markdown",
      "metadata": {
        "id": "laGUuJZmxRiG"
      },
      "source": [
        "\n",
        "#### Since we write local [*] in the master, it will use all cores in our machine. If we said local [4] it will work with 4 cores. It can work in local / yarn / mesos and kubernetes mode.\n",
        "\n",
        "#### getOrCreate is used to create a SparkSession if not present.\n"
      ]
    },
    {
      "cell_type": "code",
      "execution_count": null,
      "metadata": {
        "collapsed": true,
        "id": "RcEwqTUKxRiG"
      },
      "outputs": [],
      "source": [
        "spark=SparkSession.builder\\\n",
        "    .master(\"local[*]\")\\\n",
        "    .appName(\"WordCount\")\\\n",
        "    .getOrCreate()"
      ]
    },
    {
      "cell_type": "markdown",
      "source": [
        "###SparkContext will create the RDD from txt file"
      ],
      "metadata": {
        "id": "91-Mz2aU1SBH"
      }
    },
    {
      "cell_type": "code",
      "execution_count": null,
      "metadata": {
        "collapsed": true,
        "id": "3bYIO0PCxRiG"
      },
      "outputs": [],
      "source": [
        "sc=spark.sparkContext"
      ]
    },
    {
      "cell_type": "markdown",
      "metadata": {
        "id": "SeXzZNR7xRiG"
      },
      "source": [
        "### Read Datafile - romeojuliet.txt file for wordcount"
      ]
    },
    {
      "cell_type": "code",
      "execution_count": null,
      "metadata": {
        "collapsed": true,
        "id": "2-8slji-xRiG"
      },
      "outputs": [],
      "source": [
        "file=\"/content/romeojuliet.txt\""
      ]
    },
    {
      "cell_type": "markdown",
      "source": [
        "###Read 'file' into rdd 'shakespeare_rdd' and display first 100 lines."
      ],
      "metadata": {
        "id": "P3yUI4WvFUV_"
      }
    },
    {
      "cell_type": "code",
      "execution_count": null,
      "metadata": {
        "collapsed": true,
        "id": "Z1s2sJhGxRiH"
      },
      "outputs": [],
      "source": [
        "shakespeare_rdd=sc.textFile(file)"
      ]
    },
    {
      "cell_type": "code",
      "execution_count": null,
      "metadata": {
        "id": "XjnHw1q6xRiH",
        "outputId": "42687395-6bed-4332-bff6-13c8906c24bc",
        "colab": {
          "base_uri": "https://localhost:8080/"
        }
      },
      "outputs": [
        {
          "output_type": "execute_result",
          "data": {
            "text/plain": [
              "['',\n",
              " \"                    WILLIAM SHAKESPEARE'S\",\n",
              " '',\n",
              " '                       ROMEO & JULIET',\n",
              " '',\n",
              " '   ADAPTED FOR THE SCREEN BY CRAIG PEARCE AND BAZ LUHRMANN',\n",
              " '',\n",
              " '',\n",
              " '',\n",
              " '',\n",
              " '',\n",
              " '',\n",
              " '',\n",
              " '',\n",
              " '',\n",
              " '',\n",
              " '',\n",
              " '',\n",
              " '',\n",
              " '',\n",
              " '',\n",
              " '',\n",
              " '',\n",
              " '',\n",
              " '',\n",
              " '',\n",
              " '',\n",
              " '',\n",
              " '',\n",
              " '',\n",
              " '',\n",
              " '',\n",
              " '                                       FINAL SHOOTING SCRIPT',\n",
              " '',\n",
              " '                                             October 6, 1995',\n",
              " '',\n",
              " '',\n",
              " '',\n",
              " '',\n",
              " 'EXT.  HIGHWAY.  AFTERNOON.',\n",
              " '',\n",
              " 'A ribbon of freeway stretching into a blue and pink late',\n",
              " 'afternoon sky. A huge dark sedan, windows tinted gold,',\n",
              " 'headlights blazing, powers directly for us.',\n",
              " '',\n",
              " 'CUT TO: A heavy, low-slung, pickup truck traveling toward',\n",
              " 'the sedan.',\n",
              " '',\n",
              " 'WIDE SHOT: Sky, freeway, the cars closing.',\n",
              " '',\n",
              " 'TIGHT ON: The sedan.',\n",
              " '',\n",
              " 'TIGHT ON: The pickup.',\n",
              " '',\n",
              " 'Like thunderous, jousting opponents, the cars pass in a',\n",
              " 'deafening cacophony of noise.',\n",
              " '',\n",
              " 'INT.  TRUCK.  AFTERNOON.',\n",
              " '',\n",
              " 'TIGHT ON: The fat face of GREGORY, yelling at the',\n",
              " 'disappearing sedan.',\n",
              " '',\n",
              " '                         GREGORY',\n",
              " '            A dog of the house of Capulet moves',\n",
              " '            me!',\n",
              " '',\n",
              " 'He and the pimply-faced front-seat passenger, SAMPSON,',\n",
              " 'explode with laughter.',\n",
              " '',\n",
              " 'The red-haired driver BENVOLIO, keeps his eyes on the road.',\n",
              " '',\n",
              " 'EXT.  EXIT RAMP.  AFTERNOON.',\n",
              " '',\n",
              " 'The truck spirals down an exit ramp and screeches into busy',\n",
              " 'driveway of a large gas station.',\n",
              " '',\n",
              " 'EXT.  GAS STATION.  AFTERNOON.',\n",
              " '',\n",
              " 'Attendants immediately run to the truck.  Two clean',\n",
              " 'windshields and duco, the third fills the gas tank.',\n",
              " '',\n",
              " 'INT.  TRUCK.  AFTERNOON.',\n",
              " '',\n",
              " 'Gregory in the back seat is boasting outrageously.',\n",
              " '',\n",
              " '                         GREGORY',\n",
              " '            A dog of that house shall move me',\n",
              " '            to stand.  I will take the wall of',\n",
              " '            any man or maid of Capulets.',\n",
              " '',\n",
              " 'Sampson, sarcastically.',\n",
              " '',\n",
              " '                         SAMPSON',\n",
              " '            That shows thee a weak slave.  For',\n",
              " '            the weakest goes to the wall.',\n",
              " '',\n",
              " '                         GREGORY',\n",
              " \"            'Tis true; and therefore women,\",\n",
              " '            being the weaker vessels, are ever',\n",
              " '            thrust to the wall.  Therefore, I']"
            ]
          },
          "metadata": {},
          "execution_count": 14
        }
      ],
      "source": [
        "shakespeare_rdd.take(100)"
      ]
    },
    {
      "cell_type": "markdown",
      "source": [
        "###To display number of lines in txt file"
      ],
      "metadata": {
        "id": "4fNlnXH4GIRn"
      }
    },
    {
      "cell_type": "code",
      "execution_count": null,
      "metadata": {
        "id": "tFINz3a-xRiH",
        "outputId": "975dc038-8666-4a92-aebe-90654c76c258",
        "colab": {
          "base_uri": "https://localhost:8080/"
        }
      },
      "outputs": [
        {
          "output_type": "execute_result",
          "data": {
            "text/plain": [
              "6247"
            ]
          },
          "metadata": {},
          "execution_count": 15
        }
      ],
      "source": [
        "shakespeare_rdd.count()"
      ]
    },
    {
      "cell_type": "markdown",
      "source": [
        "###Cleaning RDD dateset for any redundancy"
      ],
      "metadata": {
        "id": "pQ75ns6IGdx8"
      }
    },
    {
      "cell_type": "markdown",
      "metadata": {
        "id": "mcSULI_8xRiH"
      },
      "source": [
        "###Defining function 'low_clean_str' for converting lines to lowercase and exclude punctuation marks\n",
        "\n",
        "#### Remove Punctuation and Transform All Words to Lowercase.\n",
        "\n",
        "#### To exclude all punctuation marks  and convert all words to lowercase, we wrote a function like the one below."
      ]
    },
    {
      "cell_type": "code",
      "execution_count": null,
      "metadata": {
        "collapsed": true,
        "id": "leUpXWAQxRiI"
      },
      "outputs": [],
      "source": [
        "def lower_clean_str(x):\n",
        "  punc='!\"#$%&\\'()*+,./:;<=>?@[\\\\]^_`{|}~-'\n",
        "  lowercased_str = x.lower()\n",
        "  for ch in punc:\n",
        "    lowercased_str = lowercased_str.replace(ch, '')\n",
        "  return lowercased_str"
      ]
    },
    {
      "cell_type": "code",
      "execution_count": null,
      "metadata": {
        "collapsed": true,
        "id": "1rmE37nLxRiI"
      },
      "outputs": [],
      "source": [
        "shakespeare_rdd = shakespeare_rdd.map(lower_clean_str)"
      ]
    },
    {
      "cell_type": "code",
      "execution_count": null,
      "metadata": {
        "id": "66SsFNl6xRiI",
        "outputId": "89386184-6edc-405d-f6f2-7b5c1b7f0f1f",
        "colab": {
          "base_uri": "https://localhost:8080/"
        }
      },
      "outputs": [
        {
          "output_type": "execute_result",
          "data": {
            "text/plain": [
              "['',\n",
              " '                    william shakespeares',\n",
              " '',\n",
              " '                       romeo  juliet',\n",
              " '',\n",
              " '   adapted for the screen by craig pearce and baz luhrmann',\n",
              " '',\n",
              " '',\n",
              " '',\n",
              " '',\n",
              " '',\n",
              " '',\n",
              " '',\n",
              " '',\n",
              " '',\n",
              " '',\n",
              " '',\n",
              " '',\n",
              " '',\n",
              " '',\n",
              " '',\n",
              " '',\n",
              " '',\n",
              " '',\n",
              " '',\n",
              " '',\n",
              " '',\n",
              " '',\n",
              " '',\n",
              " '',\n",
              " '',\n",
              " '',\n",
              " '                                       final shooting script',\n",
              " '',\n",
              " '                                             october 6 1995',\n",
              " '',\n",
              " '',\n",
              " '',\n",
              " '',\n",
              " 'ext  highway  afternoon']"
            ]
          },
          "metadata": {},
          "execution_count": 19
        }
      ],
      "source": [
        "shakespeare_rdd.take(40)"
      ]
    },
    {
      "cell_type": "markdown",
      "metadata": {
        "id": "0Fx2hG8RxRiI"
      },
      "source": [
        "### Using split function to separate the words in all lines ."
      ]
    },
    {
      "cell_type": "code",
      "execution_count": null,
      "metadata": {
        "collapsed": true,
        "id": "6jiXn-lVxRiI"
      },
      "outputs": [],
      "source": [
        "shakespeare_rdd=shakespeare_rdd.flatMap(lambda satir: satir.split(\" \"))"
      ]
    },
    {
      "cell_type": "code",
      "execution_count": null,
      "metadata": {
        "id": "lcNo8I0OxRiI",
        "outputId": "a7ea0f02-eb7a-4781-e55c-614f329b5de0",
        "colab": {
          "base_uri": "https://localhost:8080/"
        }
      },
      "outputs": [
        {
          "output_type": "execute_result",
          "data": {
            "text/plain": [
              "['', '', '', '', '']"
            ]
          },
          "metadata": {},
          "execution_count": 21
        }
      ],
      "source": [
        "shakespeare_rdd.take(5)"
      ]
    },
    {
      "cell_type": "markdown",
      "metadata": {
        "id": "6AzUfRGtxRiI"
      },
      "source": [
        "###Using filter function 'filter()' to filter out whitespaces from the RDD dataset ."
      ]
    },
    {
      "cell_type": "code",
      "execution_count": null,
      "metadata": {
        "collapsed": true,
        "id": "CINEb_xOxRiI"
      },
      "outputs": [],
      "source": [
        "shakespeare_rdd = shakespeare_rdd.filter(lambda x:x!='')"
      ]
    },
    {
      "cell_type": "code",
      "execution_count": null,
      "metadata": {
        "id": "oo0uNzW6xRiJ",
        "outputId": "3d0cdcde-41e6-4853-b6d0-9fed8d695e48",
        "colab": {
          "base_uri": "https://localhost:8080/"
        }
      },
      "outputs": [
        {
          "output_type": "execute_result",
          "data": {
            "text/plain": [
              "['william', 'shakespeares', 'romeo', 'juliet']"
            ]
          },
          "metadata": {},
          "execution_count": 24
        }
      ],
      "source": [
        "shakespeare_rdd.take(4)"
      ]
    },
    {
      "cell_type": "markdown",
      "metadata": {
        "id": "dqx-9fM3xRiJ"
      },
      "source": [
        "### Count how many times each word occurs.\n",
        "#### To make this calculation we can apply the 'reduceByKey' fucnction to transform as a (key,val) pair for RDD. Hence, first to convert “shakespeare_rdd” to (key,val) pair RDD.\n",
        "\n",
        "#### In this new (key,val) pair RDD (shakespeare_count), key is the word and val is 1 for each word in RDD (1 represents the number for the each word in “shakespeare_rdd”).\n"
      ]
    },
    {
      "cell_type": "code",
      "execution_count": null,
      "metadata": {
        "collapsed": true,
        "id": "4JkmVD8DxRiJ"
      },
      "outputs": [],
      "source": [
        "shakespeare_count=shakespeare_rdd.map(lambda  word:(word,1))"
      ]
    },
    {
      "cell_type": "code",
      "execution_count": null,
      "metadata": {
        "id": "pwvybnP6xRiJ",
        "outputId": "f71371a8-b2c7-4180-ca13-2ee304e433d9",
        "colab": {
          "base_uri": "https://localhost:8080/"
        }
      },
      "outputs": [
        {
          "output_type": "execute_result",
          "data": {
            "text/plain": [
              "[('william', 1),\n",
              " ('shakespeares', 1),\n",
              " ('romeo', 1),\n",
              " ('juliet', 1),\n",
              " ('adapted', 1),\n",
              " ('for', 1),\n",
              " ('the', 1),\n",
              " ('screen', 1),\n",
              " ('by', 1),\n",
              " ('craig', 1),\n",
              " ('pearce', 1),\n",
              " ('and', 1),\n",
              " ('baz', 1),\n",
              " ('luhrmann', 1),\n",
              " ('final', 1),\n",
              " ('shooting', 1),\n",
              " ('script', 1),\n",
              " ('october', 1),\n",
              " ('6', 1),\n",
              " ('1995', 1),\n",
              " ('ext', 1),\n",
              " ('highway', 1),\n",
              " ('afternoon', 1),\n",
              " ('a', 1),\n",
              " ('ribbon', 1),\n",
              " ('of', 1),\n",
              " ('freeway', 1),\n",
              " ('stretching', 1),\n",
              " ('into', 1),\n",
              " ('a', 1),\n",
              " ('blue', 1),\n",
              " ('and', 1),\n",
              " ('pink', 1),\n",
              " ('late', 1),\n",
              " ('afternoon', 1),\n",
              " ('sky', 1),\n",
              " ('a', 1),\n",
              " ('huge', 1),\n",
              " ('dark', 1),\n",
              " ('sedan', 1),\n",
              " ('windows', 1),\n",
              " ('tinted', 1),\n",
              " ('gold', 1),\n",
              " ('headlights', 1),\n",
              " ('blazing', 1),\n",
              " ('powers', 1),\n",
              " ('directly', 1),\n",
              " ('for', 1),\n",
              " ('us', 1),\n",
              " ('cut', 1),\n",
              " ('to', 1),\n",
              " ('a', 1),\n",
              " ('heavy', 1),\n",
              " ('lowslung', 1),\n",
              " ('pickup', 1),\n",
              " ('truck', 1),\n",
              " ('traveling', 1),\n",
              " ('toward', 1),\n",
              " ('the', 1),\n",
              " ('sedan', 1),\n",
              " ('wide', 1),\n",
              " ('shot', 1),\n",
              " ('sky', 1),\n",
              " ('freeway', 1),\n",
              " ('the', 1),\n",
              " ('cars', 1),\n",
              " ('closing', 1),\n",
              " ('tight', 1),\n",
              " ('on', 1),\n",
              " ('the', 1),\n",
              " ('sedan', 1),\n",
              " ('tight', 1),\n",
              " ('on', 1),\n",
              " ('the', 1),\n",
              " ('pickup', 1),\n",
              " ('like', 1),\n",
              " ('thunderous', 1),\n",
              " ('jousting', 1),\n",
              " ('opponents', 1),\n",
              " ('the', 1),\n",
              " ('cars', 1),\n",
              " ('pass', 1),\n",
              " ('in', 1),\n",
              " ('a', 1),\n",
              " ('deafening', 1),\n",
              " ('cacophony', 1),\n",
              " ('of', 1),\n",
              " ('noise', 1),\n",
              " ('int', 1),\n",
              " ('truck', 1),\n",
              " ('afternoon', 1),\n",
              " ('tight', 1),\n",
              " ('on', 1),\n",
              " ('the', 1),\n",
              " ('fat', 1),\n",
              " ('face', 1),\n",
              " ('of', 1),\n",
              " ('gregory', 1),\n",
              " ('yelling', 1),\n",
              " ('at', 1)]"
            ]
          },
          "metadata": {},
          "execution_count": 27
        }
      ],
      "source": [
        "shakespeare_count.take(100)"
      ]
    },
    {
      "cell_type": "markdown",
      "metadata": {
        "id": "p836OqxlxRiJ"
      },
      "source": [
        "###Using 'reducebykey'function to find frequent words in the dataset."
      ]
    },
    {
      "cell_type": "code",
      "execution_count": null,
      "metadata": {
        "collapsed": true,
        "id": "NvGjFcfbxRiJ"
      },
      "outputs": [],
      "source": [
        "shakespeare_count_RBK=shakespeare_count.reduceByKey(lambda x,y:(x+y)).sortByKey()"
      ]
    },
    {
      "cell_type": "code",
      "execution_count": null,
      "metadata": {
        "id": "QTz29oSMxRiJ",
        "outputId": "7f7671f1-2a47-4e50-caa6-226f52f66097",
        "colab": {
          "base_uri": "https://localhost:8080/"
        }
      },
      "outputs": [
        {
          "output_type": "execute_result",
          "data": {
            "text/plain": [
              "[('1995', 1),\n",
              " ('21', 1),\n",
              " ('6', 1),\n",
              " ('60', 2),\n",
              " ('9mm', 2),\n",
              " ('a', 563),\n",
              " ('abandoned', 1),\n",
              " ('able', 1),\n",
              " ('about', 3),\n",
              " ('above', 12),\n",
              " ('abra', 24),\n",
              " ('abras', 3),\n",
              " ('abroad', 1),\n",
              " ('abrupt', 1),\n",
              " ('abruptly', 5),\n",
              " ('absolved', 1),\n",
              " ('abuse', 2),\n",
              " ('abuses', 1),\n",
              " ('accidentally', 1),\n",
              " ('accompanied', 1),\n",
              " ('according', 1),\n",
              " ('accusation', 1),\n",
              " ('accustomed', 2),\n",
              " ('ache', 1),\n",
              " ('aches', 1),\n",
              " ('achingly', 2),\n",
              " ('acoustic', 1),\n",
              " ('across', 24),\n",
              " ('actually', 1),\n",
              " ('adagio', 1),\n",
              " ('adapted', 1),\n",
              " ('address', 1),\n",
              " ('addressed', 1),\n",
              " ('addresses', 1),\n",
              " ('adept', 1),\n",
              " ('adieu', 4),\n",
              " ('adjacent', 1),\n",
              " ('adjoining', 1),\n",
              " ('adjust', 1),\n",
              " ('admired', 1)]"
            ]
          },
          "metadata": {},
          "execution_count": 29
        }
      ],
      "source": [
        "shakespeare_count_RBK.take(40)"
      ]
    },
    {
      "cell_type": "markdown",
      "metadata": {
        "id": "jVFvNDMDxRiJ"
      },
      "source": [
        "####Sorting the most frequent words in descending order. As the first step, we switch (key,val) pairs as (val,key)."
      ]
    },
    {
      "cell_type": "code",
      "execution_count": null,
      "metadata": {
        "collapsed": true,
        "id": "h_Oygyc3xRiK"
      },
      "outputs": [],
      "source": [
        "shakespeare_count_RBK=shakespeare_count_RBK.map(lambda x:(x[1],x[0]))"
      ]
    },
    {
      "cell_type": "code",
      "execution_count": null,
      "metadata": {
        "id": "iEKom2BjxRiK",
        "outputId": "df381882-9c17-43f6-b73c-c81e6cdb392f",
        "colab": {
          "base_uri": "https://localhost:8080/"
        }
      },
      "outputs": [
        {
          "output_type": "execute_result",
          "data": {
            "text/plain": [
              "[(1, '1995'),\n",
              " (1, '21'),\n",
              " (1, '6'),\n",
              " (2, '60'),\n",
              " (2, '9mm'),\n",
              " (563, 'a'),\n",
              " (1, 'abandoned'),\n",
              " (1, 'able'),\n",
              " (3, 'about'),\n",
              " (12, 'above'),\n",
              " (24, 'abra'),\n",
              " (3, 'abras'),\n",
              " (1, 'abroad'),\n",
              " (1, 'abrupt'),\n",
              " (5, 'abruptly'),\n",
              " (1, 'absolved'),\n",
              " (2, 'abuse'),\n",
              " (1, 'abuses'),\n",
              " (1, 'accidentally'),\n",
              " (1, 'accompanied'),\n",
              " (1, 'according'),\n",
              " (1, 'accusation'),\n",
              " (2, 'accustomed'),\n",
              " (1, 'ache'),\n",
              " (1, 'aches'),\n",
              " (2, 'achingly'),\n",
              " (1, 'acoustic'),\n",
              " (24, 'across'),\n",
              " (1, 'actually'),\n",
              " (1, 'adagio')]"
            ]
          },
          "metadata": {},
          "execution_count": 32
        }
      ],
      "source": [
        "shakespeare_count_RBK.take(30)"
      ]
    },
    {
      "cell_type": "markdown",
      "metadata": {
        "id": "DbuG8DgyxRiK"
      },
      "source": [
        "###The most common word is \"the\". However, these values are like stopwords which brings values to our analysis."
      ]
    },
    {
      "cell_type": "code",
      "execution_count": null,
      "metadata": {
        "id": "brdD9hBxxRiK",
        "outputId": "0a434274-009e-4cee-f5a4-3d54dc4d4d18",
        "colab": {
          "base_uri": "https://localhost:8080/"
        }
      },
      "outputs": [
        {
          "output_type": "execute_result",
          "data": {
            "text/plain": [
              "[(1372, 'the'),\n",
              " (563, 'a'),\n",
              " (506, 'to'),\n",
              " (469, 'of'),\n",
              " (464, 'romeo'),\n",
              " (461, 'and'),\n",
              " (258, 'in'),\n",
              " (251, 'juliet'),\n",
              " (246, 'is'),\n",
              " (224, 'i')]"
            ]
          },
          "metadata": {},
          "execution_count": 24
        }
      ],
      "source": [
        "shakespeare_count_RBK.sortByKey(False).take(10)"
      ]
    },
    {
      "cell_type": "markdown",
      "metadata": {
        "id": "vf24NIRzxRiK"
      },
      "source": [
        "###Importing nltk lib to exclude  stopwords words,  and get the list of English stopwords.\n",
        "####The 'nltk' (Natural Language Toolkit) is used for natural language processing."
      ]
    },
    {
      "cell_type": "code",
      "execution_count": null,
      "metadata": {
        "collapsed": true,
        "id": "fwuYfyaRxRiK"
      },
      "outputs": [],
      "source": [
        "import nltk"
      ]
    },
    {
      "cell_type": "code",
      "execution_count": null,
      "metadata": {
        "id": "L_LLXd06xRiK",
        "outputId": "d8776185-4767-4399-bf47-53c200adf979",
        "colab": {
          "base_uri": "https://localhost:8080/"
        }
      },
      "outputs": [
        {
          "output_type": "stream",
          "name": "stderr",
          "text": [
            "[nltk_data] Downloading package stopwords to /root/nltk_data...\n",
            "[nltk_data]   Unzipping corpora/stopwords.zip.\n"
          ]
        },
        {
          "output_type": "execute_result",
          "data": {
            "text/plain": [
              "True"
            ]
          },
          "metadata": {},
          "execution_count": 34
        }
      ],
      "source": [
        "nltk.download('stopwords')"
      ]
    },
    {
      "cell_type": "code",
      "execution_count": null,
      "metadata": {
        "id": "7ngYm9LExRiL",
        "outputId": "1f813ef3-b469-4006-8e62-cc1f31242344",
        "colab": {
          "base_uri": "https://localhost:8080/"
        }
      },
      "outputs": [
        {
          "output_type": "execute_result",
          "data": {
            "text/plain": [
              "['i',\n",
              " 'me',\n",
              " 'my',\n",
              " 'myself',\n",
              " 'we',\n",
              " 'our',\n",
              " 'ours',\n",
              " 'ourselves',\n",
              " 'you',\n",
              " \"you're\",\n",
              " \"you've\",\n",
              " \"you'll\",\n",
              " \"you'd\",\n",
              " 'your',\n",
              " 'yours',\n",
              " 'yourself',\n",
              " 'yourselves',\n",
              " 'he',\n",
              " 'him',\n",
              " 'his',\n",
              " 'himself',\n",
              " 'she',\n",
              " \"she's\",\n",
              " 'her',\n",
              " 'hers',\n",
              " 'herself',\n",
              " 'it',\n",
              " \"it's\",\n",
              " 'its',\n",
              " 'itself',\n",
              " 'they',\n",
              " 'them',\n",
              " 'their',\n",
              " 'theirs',\n",
              " 'themselves',\n",
              " 'what',\n",
              " 'which',\n",
              " 'who',\n",
              " 'whom',\n",
              " 'this',\n",
              " 'that',\n",
              " \"that'll\",\n",
              " 'these',\n",
              " 'those',\n",
              " 'am',\n",
              " 'is',\n",
              " 'are',\n",
              " 'was',\n",
              " 'were',\n",
              " 'be',\n",
              " 'been',\n",
              " 'being',\n",
              " 'have',\n",
              " 'has',\n",
              " 'had',\n",
              " 'having',\n",
              " 'do',\n",
              " 'does',\n",
              " 'did',\n",
              " 'doing',\n",
              " 'a',\n",
              " 'an',\n",
              " 'the',\n",
              " 'and',\n",
              " 'but',\n",
              " 'if',\n",
              " 'or',\n",
              " 'because',\n",
              " 'as',\n",
              " 'until',\n",
              " 'while',\n",
              " 'of',\n",
              " 'at',\n",
              " 'by',\n",
              " 'for',\n",
              " 'with',\n",
              " 'about',\n",
              " 'against',\n",
              " 'between',\n",
              " 'into',\n",
              " 'through',\n",
              " 'during',\n",
              " 'before',\n",
              " 'after',\n",
              " 'above',\n",
              " 'below',\n",
              " 'to',\n",
              " 'from',\n",
              " 'up',\n",
              " 'down',\n",
              " 'in',\n",
              " 'out',\n",
              " 'on',\n",
              " 'off',\n",
              " 'over',\n",
              " 'under',\n",
              " 'again',\n",
              " 'further',\n",
              " 'then',\n",
              " 'once',\n",
              " 'here',\n",
              " 'there',\n",
              " 'when',\n",
              " 'where',\n",
              " 'why',\n",
              " 'how',\n",
              " 'all',\n",
              " 'any',\n",
              " 'both',\n",
              " 'each',\n",
              " 'few',\n",
              " 'more',\n",
              " 'most',\n",
              " 'other',\n",
              " 'some',\n",
              " 'such',\n",
              " 'no',\n",
              " 'nor',\n",
              " 'not',\n",
              " 'only',\n",
              " 'own',\n",
              " 'same',\n",
              " 'so',\n",
              " 'than',\n",
              " 'too',\n",
              " 'very',\n",
              " 's',\n",
              " 't',\n",
              " 'can',\n",
              " 'will',\n",
              " 'just',\n",
              " 'don',\n",
              " \"don't\",\n",
              " 'should',\n",
              " \"should've\",\n",
              " 'now',\n",
              " 'd',\n",
              " 'll',\n",
              " 'm',\n",
              " 'o',\n",
              " 're',\n",
              " 've',\n",
              " 'y',\n",
              " 'ain',\n",
              " 'aren',\n",
              " \"aren't\",\n",
              " 'couldn',\n",
              " \"couldn't\",\n",
              " 'didn',\n",
              " \"didn't\",\n",
              " 'doesn',\n",
              " \"doesn't\",\n",
              " 'hadn',\n",
              " \"hadn't\",\n",
              " 'hasn',\n",
              " \"hasn't\",\n",
              " 'haven',\n",
              " \"haven't\",\n",
              " 'isn',\n",
              " \"isn't\",\n",
              " 'ma',\n",
              " 'mightn',\n",
              " \"mightn't\",\n",
              " 'mustn',\n",
              " \"mustn't\",\n",
              " 'needn',\n",
              " \"needn't\",\n",
              " 'shan',\n",
              " \"shan't\",\n",
              " 'shouldn',\n",
              " \"shouldn't\",\n",
              " 'wasn',\n",
              " \"wasn't\",\n",
              " 'weren',\n",
              " \"weren't\",\n",
              " 'won',\n",
              " \"won't\",\n",
              " 'wouldn',\n",
              " \"wouldn't\"]"
            ]
          },
          "metadata": {},
          "execution_count": 35
        }
      ],
      "source": [
        "from nltk.corpus import stopwords\n",
        "stopwords =stopwords.words('english')\n",
        "stopwords"
      ]
    },
    {
      "cell_type": "markdown",
      "metadata": {
        "id": "QB3E-ecexRiL"
      },
      "source": [
        "###After excluding stopwords, the most common word is\"romeo\"."
      ]
    },
    {
      "cell_type": "code",
      "execution_count": null,
      "metadata": {
        "collapsed": true,
        "id": "A64S7HhBxRiL"
      },
      "outputs": [],
      "source": [
        "shakespeare_count_RBK = shakespeare_count_RBK.filter(lambda x: x[1] not in stopwords).sortByKey(False)"
      ]
    },
    {
      "cell_type": "code",
      "execution_count": null,
      "metadata": {
        "id": "O6BoEiQ6xRiQ",
        "outputId": "fdd91ce6-4c1d-406f-aaaa-cda2a757caaf",
        "colab": {
          "base_uri": "https://localhost:8080/"
        }
      },
      "outputs": [
        {
          "output_type": "execute_result",
          "data": {
            "text/plain": [
              "[(464, 'romeo'),\n",
              " (251, 'juliet'),\n",
              " (143, 'mercutio'),\n",
              " (133, 'capulet'),\n",
              " (114, 'thou'),\n",
              " (111, 'benvolio'),\n",
              " (111, 'night'),\n",
              " (98, 'father'),\n",
              " (97, 'ext'),\n",
              " (96, 'close'),\n",
              " (96, 'nurse'),\n",
              " (92, 'cont'),\n",
              " (88, 'int'),\n",
              " (87, 'cut'),\n",
              " (84, 'car'),\n",
              " (82, 'love'),\n",
              " (81, 'laurence'),\n",
              " (79, 'tybalt'),\n",
              " (71, 'gloria'),\n",
              " (66, 'day'),\n",
              " (62, 'thy'),\n",
              " (58, 'back'),\n",
              " (56, 'thee'),\n",
              " (53, 'eyes'),\n",
              " (52, 'toward'),\n",
              " (48, 'dave'),\n",
              " (48, 'shall'),\n",
              " (47, 'face'),\n",
              " (44, 'balthasar'),\n",
              " (43, 'beach'),\n",
              " (43, 'prince'),\n",
              " (43, 'romeos'),\n",
              " (42, 'afternoon'),\n",
              " (42, 'juliets'),\n",
              " (42, 'montague'),\n",
              " (41, 'away'),\n",
              " (39, 'come'),\n",
              " (39, 'good'),\n",
              " (39, 'hand'),\n",
              " (38, 'captain'),\n",
              " (38, 'sampson'),\n",
              " (38, 'turns'),\n",
              " (37, 'gun'),\n",
              " (36, 'boys'),\n",
              " (34, 'man'),\n",
              " (33, 'door'),\n",
              " (33, 'ill'),\n",
              " (31, 'looks'),\n",
              " (30, 'black'),\n",
              " (29, 'gregory')]"
            ]
          },
          "metadata": {},
          "execution_count": 38
        }
      ],
      "source": [
        "shakespeare_count_RBK.sortByKey(False).take(50)"
      ]
    },
    {
      "cell_type": "markdown",
      "source": [
        "###Thank You!!\n",
        " 😄😄"
      ],
      "metadata": {
        "id": "H8_-0xmiOVuK"
      }
    },
    {
      "cell_type": "code",
      "source": [],
      "metadata": {
        "id": "qQ-ezA3cOVf6"
      },
      "execution_count": null,
      "outputs": []
    }
  ],
  "metadata": {
    "kernelspec": {
      "display_name": "Python 3",
      "language": "python",
      "name": "python3"
    },
    "language_info": {
      "codemirror_mode": {
        "name": "ipython",
        "version": 3
      },
      "file_extension": ".py",
      "mimetype": "text/x-python",
      "name": "python",
      "nbconvert_exporter": "python",
      "pygments_lexer": "ipython3",
      "version": "3.6.3"
    },
    "colab": {
      "provenance": []
    }
  },
  "nbformat": 4,
  "nbformat_minor": 0
}